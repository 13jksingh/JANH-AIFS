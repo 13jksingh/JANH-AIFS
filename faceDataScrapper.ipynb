{
 "cells": [
  {
   "cell_type": "code",
   "execution_count": 1,
   "metadata": {},
   "outputs": [],
   "source": [
    "from selenium.webdriver.support.select import Select\n",
    "from selenium import webdriver\n",
    "from selenium.webdriver.common.by import By\n",
    "from selenium.webdriver.support.ui import WebDriverWait\n",
    "from selenium.webdriver.support import expected_conditions as EC\n",
    "from webdriver_manager.chrome import ChromeDriverManager\n",
    "import time\n",
    "import cv2\n",
    "import requests\n",
    "from PIL import Image\n",
    "from io import BytesIO\n",
    "import numpy as np\n",
    "import time\n",
    "from selenium import webdriver\n",
    "from selenium.webdriver.common.by import By\n",
    "import matplotlib.pyplot as plt"
   ]
  },
  {
   "cell_type": "code",
   "execution_count": 2,
   "metadata": {},
   "outputs": [],
   "source": [
    "driver = webdriver.Chrome()"
   ]
  },
  {
   "cell_type": "code",
   "execution_count": 36,
   "metadata": {},
   "outputs": [],
   "source": [
    "driver.get(\"https://www.instagram.com/\")"
   ]
  },
  {
   "cell_type": "code",
   "execution_count": 37,
   "metadata": {},
   "outputs": [
    {
     "data": {
      "text/plain": [
       "'Home\\nSearch\\nExplore\\nReels\\nMessages\\nNotifications\\nCreate\\nProfile\\nMore'"
      ]
     },
     "execution_count": 37,
     "metadata": {},
     "output_type": "execute_result"
    }
   ],
   "source": [
    "SideBar = driver.find_element(By.XPATH,'//*[contains(@style, \"transform: translateX(0px);\")]')\n",
    "SideBar.text"
   ]
  },
  {
   "cell_type": "code",
   "execution_count": 38,
   "metadata": {},
   "outputs": [
    {
     "name": "stdout",
     "output_type": "stream",
     "text": [
      "Search bar opened\n"
     ]
    }
   ],
   "source": [
    "serach_bar_element = SideBar.find_elements(By.XPATH,'//div[contains(@class, \"x1iyjqo2\")]/div')[1]\n",
    "serach_bar_element.click()\n",
    "print(\"Search bar opened\")"
   ]
  },
  {
   "cell_type": "code",
   "execution_count": 39,
   "metadata": {},
   "outputs": [],
   "source": [
    "serach_box_input = driver.find_element(By.XPATH,'//input[@aria-label=\"Search input\"]')\n",
    "serach_box_input.clear()\n",
    "serach_box_input.send_keys(\"#mohali\")"
   ]
  },
  {
   "cell_type": "code",
   "execution_count": 40,
   "metadata": {},
   "outputs": [
    {
     "data": {
      "text/plain": [
       "['https://www.instagram.com/explore/tags/mohali/',\n",
       " 'https://www.instagram.com/explore/tags/mohali%E2%9C%8C%EF%B8%8F/',\n",
       " 'https://www.instagram.com/explore/tags/mohalishoutouts/',\n",
       " 'https://www.instagram.com/explore/tags/mohaligirls/',\n",
       " 'https://www.instagram.com/explore/tags/mohalimakeupartist/',\n",
       " 'https://www.instagram.com/explore/tags/mohalifoodies/',\n",
       " 'https://www.instagram.com/explore/tags/mohalidiaries/',\n",
       " 'https://www.instagram.com/explore/tags/mohali%E2%9C%8C%EF%B8%8F%F0%9F%8C%A7%EF%B8%8F%F0%9F%8C%A9%EF%B8%8F%F0%9F%8C%A8%EF%B8%8F%E2%98%81%EF%B8%8F/',\n",
       " 'https://www.instagram.com/explore/tags/mohaliproperty/',\n",
       " 'https://www.instagram.com/explore/tags/mohali3b2/',\n",
       " 'https://www.instagram.com/explore/tags/mohaliboutique/',\n",
       " 'https://www.instagram.com/explore/tags/mohaliwala/',\n",
       " 'https://www.instagram.com/explore/tags/mohalijobs/',\n",
       " 'https://www.instagram.com/explore/tags/mohali%E2%9C%8C%F0%9F%8F%BB/',\n",
       " 'https://www.instagram.com/explore/tags/mohalidoordarshan/',\n",
       " 'https://www.instagram.com/explore/tags/mohaliblogger/',\n",
       " 'https://www.instagram.com/explore/tags/mohalibakers/',\n",
       " 'https://www.instagram.com/explore/tags/mohalichandigarh/',\n",
       " 'https://www.instagram.com/explore/tags/mohalicakes/',\n",
       " 'https://www.instagram.com/explore/tags/mohalifoodblogger/',\n",
       " 'https://www.instagram.com/explore/tags/mohalifood/',\n",
       " 'https://www.instagram.com/explore/tags/mohalinews/',\n",
       " 'https://www.instagram.com/explore/tags/mohali10phase/',\n",
       " 'https://www.instagram.com/explore/tags/mohalistadium/',\n",
       " 'https://www.instagram.com/explore/tags/mohaligym/',\n",
       " 'https://www.instagram.com/explore/tags/mohali%E2%9C%8C/',\n",
       " 'https://www.instagram.com/explore/tags/mohali%F0%9F%87%AE%F0%9F%87%B3/',\n",
       " 'https://www.instagram.com/explore/tags/mohaligirl/',\n",
       " 'https://www.instagram.com/explore/tags/mohalife/',\n",
       " 'https://www.instagram.com/explore/tags/mohali7phase/',\n",
       " 'https://www.instagram.com/explore/tags/mohalicampus/',\n",
       " 'https://www.instagram.com/explore/tags/mohalirealestate/',\n",
       " 'https://www.instagram.com/explore/tags/mohaliproperties/',\n",
       " 'https://www.instagram.com/explore/tags/mohalimorcha/',\n",
       " 'https://www.instagram.com/explore/tags/mohalibaker/',\n",
       " 'https://www.instagram.com/explore/tags/mohaliwale/',\n",
       " 'https://www.instagram.com/explore/tags/mohalitattoo/',\n",
       " 'https://www.instagram.com/explore/tags/mohalifoodbloggers/',\n",
       " 'https://www.instagram.com/explore/tags/mohaligediroute/',\n",
       " 'https://www.instagram.com/explore/tags/mohalifurniture/',\n",
       " 'https://www.instagram.com/explore/tags/nipermohali/',\n",
       " 'https://www.instagram.com/explore/tags/mohalibloggers/',\n",
       " 'https://www.instagram.com/explore/tags/mohalibakery/',\n",
       " 'https://www.instagram.com/explore/tags/mohaliimmigration/',\n",
       " 'https://www.instagram.com/explore/tags/mohalisalon/',\n",
       " 'https://www.instagram.com/explore/tags/mohalischools/',\n",
       " 'https://www.instagram.com/explore/tags/mohalibytes/',\n",
       " 'https://www.instagram.com/explore/tags/3b2mohali/',\n",
       " 'https://www.instagram.com/explore/tags/mohalifashion/',\n",
       " 'https://www.instagram.com/explore/tags/mohaliclub/',\n",
       " 'https://www.instagram.com/explore/tags/mohalihairstylist/',\n",
       " 'https://www.instagram.com/explore/tags/mohalimua/',\n",
       " 'https://www.instagram.com/explore/tags/mohalimodels/',\n",
       " 'https://www.instagram.com/explore/tags/mohaliairport/',\n",
       " 'https://www.instagram.com/explore/tags/mohaliplots/']"
      ]
     },
     "execution_count": 40,
     "metadata": {},
     "output_type": "execute_result"
    }
   ],
   "source": [
    "search_results = driver.find_elements(By.XPATH,\"//div[contains(@class, 'x9f619') and contains(@class, 'x78zum5') and contains(@class, 'xdt5ytf') and contains(@class, 'x1iyjqo2') and contains(@class, 'x6ikm8r') and contains(@class, 'x1odjw0f') and contains(@class, 'xh8yej3') and contains(@class, 'xocp1fn')]/a\")\n",
    "search_results_links = [x.get_attribute(\"href\") for x in search_results]\n",
    "search_results_links"
   ]
  },
  {
   "cell_type": "code",
   "execution_count": 41,
   "metadata": {},
   "outputs": [],
   "source": [
    "# for link in search_results_links:\n",
    "#     driver.get(link)\n",
    "#     time.sleep(10)\n",
    "#     for idx,i in enumerate(driver.find_elements(By.XPATH,\"//article/div/div/div/div/div\")):\n",
    "#         try:\n",
    "#             img_url = i.find_element(By.TAG_NAME,\"img\").get_attribute(\"src\"))\n",
    "#         except:\n",
    "#             continue\n"
   ]
  },
  {
   "cell_type": "code",
   "execution_count": 28,
   "metadata": {},
   "outputs": [],
   "source": [
    "\n",
    "# Function to detect and extract faces from an image URL\n",
    "def extract_faces(img_url):\n",
    "    response = requests.get(img_url)\n",
    "    img = Image.open(BytesIO(response.content))\n",
    "    image = np.array(img)\n",
    "    h, w = image.shape[:2]\n",
    "    arch = 'architecture.txt'\n",
    "    weights = 'weights.caffemodel'\n",
    "    neural_net = cv2.dnn.readNetFromCaffe(arch, weights)\n",
    "    blob = cv2.dnn.blobFromImage(\n",
    "        image=cv2.resize(image, (299, 299)),\n",
    "        scalefactor=1.0,\n",
    "        size=(299, 299),\n",
    "        mean=(103.93, 116.77, 123.68)\n",
    "    )\n",
    "    neural_net.setInput(blob)\n",
    "    detections = neural_net.forward()\n",
    "    threshold = 0.5\n",
    "    faces = []\n",
    "    for i in range(0, detections.shape[2]):\n",
    "        confidence = detections[0, 0, i, 2]\n",
    "        if confidence > threshold:\n",
    "            box = detections[0, 0, i, 3:7] * np.array([w, h, w, h])\n",
    "            startX, startY, endX, endY = box.astype('int')\n",
    "            face = image[startY:endY, startX:endX]\n",
    "            faces.append(face)\n",
    "    return faces\n"
   ]
  },
  {
   "cell_type": "code",
   "execution_count": 30,
   "metadata": {},
   "outputs": [
    {
     "name": "stdout",
     "output_type": "stream",
     "text": [
      "Error processing image 25: tile cannot extend outside image\n",
      "Error processing image 28: Message: no such element: Unable to locate element: {\"method\":\"tag name\",\"selector\":\"img\"}\n",
      "  (Session info: chrome=118.0.5993.89); For documentation on this error, please visit: https://www.selenium.dev/documentation/webdriver/troubleshooting/errors#no-such-element-exception\n",
      "Stacktrace:\n",
      "\tGetHandleVerifier [0x00007FF778BE8EF2+54786]\n",
      "\t(No symbol) [0x00007FF778B55612]\n",
      "\t(No symbol) [0x00007FF778A0A64B]\n",
      "\t(No symbol) [0x00007FF778A4B79C]\n",
      "\t(No symbol) [0x00007FF778A4B91C]\n",
      "\t(No symbol) [0x00007FF778A423AC]\n",
      "\t(No symbol) [0x00007FF778A6BEAF]\n",
      "\t(No symbol) [0x00007FF778A422E6]\n",
      "\t(No symbol) [0x00007FF778A6C080]\n",
      "\t(No symbol) [0x00007FF778A84D02]\n",
      "\t(No symbol) [0x00007FF778A6BC43]\n",
      "\t(No symbol) [0x00007FF778A40941]\n",
      "\t(No symbol) [0x00007FF778A41B84]\n",
      "\tGetHandleVerifier [0x00007FF778F37F52+3524194]\n",
      "\tGetHandleVerifier [0x00007FF778F8D800+3874576]\n",
      "\tGetHandleVerifier [0x00007FF778F85D7F+3843215]\n",
      "\tGetHandleVerifier [0x00007FF778C85086+694166]\n",
      "\t(No symbol) [0x00007FF778B60A88]\n",
      "\t(No symbol) [0x00007FF778B5CA94]\n",
      "\t(No symbol) [0x00007FF778B5CBC2]\n",
      "\t(No symbol) [0x00007FF778B4CC83]\n",
      "\tBaseThreadInitThunk [0x00007FFDD3D2257D+29]\n",
      "\tRtlUserThreadStart [0x00007FFDD4ACAA78+40]\n",
      "\n",
      "Error processing image 29: Message: no such element: Unable to locate element: {\"method\":\"tag name\",\"selector\":\"img\"}\n",
      "  (Session info: chrome=118.0.5993.89); For documentation on this error, please visit: https://www.selenium.dev/documentation/webdriver/troubleshooting/errors#no-such-element-exception\n",
      "Stacktrace:\n",
      "\tGetHandleVerifier [0x00007FF778BE8EF2+54786]\n",
      "\t(No symbol) [0x00007FF778B55612]\n",
      "\t(No symbol) [0x00007FF778A0A64B]\n",
      "\t(No symbol) [0x00007FF778A4B79C]\n",
      "\t(No symbol) [0x00007FF778A4B91C]\n",
      "\t(No symbol) [0x00007FF778A423AC]\n",
      "\t(No symbol) [0x00007FF778A6BEAF]\n",
      "\t(No symbol) [0x00007FF778A422E6]\n",
      "\t(No symbol) [0x00007FF778A6C080]\n",
      "\t(No symbol) [0x00007FF778A84D02]\n",
      "\t(No symbol) [0x00007FF778A6BC43]\n",
      "\t(No symbol) [0x00007FF778A40941]\n",
      "\t(No symbol) [0x00007FF778A41B84]\n",
      "\tGetHandleVerifier [0x00007FF778F37F52+3524194]\n",
      "\tGetHandleVerifier [0x00007FF778F8D800+3874576]\n",
      "\tGetHandleVerifier [0x00007FF778F85D7F+3843215]\n",
      "\tGetHandleVerifier [0x00007FF778C85086+694166]\n",
      "\t(No symbol) [0x00007FF778B60A88]\n",
      "\t(No symbol) [0x00007FF778B5CA94]\n",
      "\t(No symbol) [0x00007FF778B5CBC2]\n",
      "\t(No symbol) [0x00007FF778B4CC83]\n",
      "\tBaseThreadInitThunk [0x00007FFDD3D2257D+29]\n",
      "\tRtlUserThreadStart [0x00007FFDD4ACAA78+40]\n",
      "\n",
      "Error processing image 15: tile cannot extend outside image\n",
      "Error processing image 28: Message: no such element: Unable to locate element: {\"method\":\"tag name\",\"selector\":\"img\"}\n",
      "  (Session info: chrome=118.0.5993.89); For documentation on this error, please visit: https://www.selenium.dev/documentation/webdriver/troubleshooting/errors#no-such-element-exception\n",
      "Stacktrace:\n",
      "\tGetHandleVerifier [0x00007FF778BE8EF2+54786]\n",
      "\t(No symbol) [0x00007FF778B55612]\n",
      "\t(No symbol) [0x00007FF778A0A64B]\n",
      "\t(No symbol) [0x00007FF778A4B79C]\n",
      "\t(No symbol) [0x00007FF778A4B91C]\n",
      "\t(No symbol) [0x00007FF778A423AC]\n",
      "\t(No symbol) [0x00007FF778A6BEAF]\n",
      "\t(No symbol) [0x00007FF778A422E6]\n",
      "\t(No symbol) [0x00007FF778A6C080]\n",
      "\t(No symbol) [0x00007FF778A84D02]\n",
      "\t(No symbol) [0x00007FF778A6BC43]\n",
      "\t(No symbol) [0x00007FF778A40941]\n",
      "\t(No symbol) [0x00007FF778A41B84]\n",
      "\tGetHandleVerifier [0x00007FF778F37F52+3524194]\n",
      "\tGetHandleVerifier [0x00007FF778F8D800+3874576]\n",
      "\tGetHandleVerifier [0x00007FF778F85D7F+3843215]\n",
      "\tGetHandleVerifier [0x00007FF778C85086+694166]\n",
      "\t(No symbol) [0x00007FF778B60A88]\n",
      "\t(No symbol) [0x00007FF778B5CA94]\n",
      "\t(No symbol) [0x00007FF778B5CBC2]\n",
      "\t(No symbol) [0x00007FF778B4CC83]\n",
      "\tBaseThreadInitThunk [0x00007FFDD3D2257D+29]\n",
      "\tRtlUserThreadStart [0x00007FFDD4ACAA78+40]\n",
      "\n",
      "Error processing image 29: Message: no such element: Unable to locate element: {\"method\":\"tag name\",\"selector\":\"img\"}\n",
      "  (Session info: chrome=118.0.5993.89); For documentation on this error, please visit: https://www.selenium.dev/documentation/webdriver/troubleshooting/errors#no-such-element-exception\n",
      "Stacktrace:\n",
      "\tGetHandleVerifier [0x00007FF778BE8EF2+54786]\n",
      "\t(No symbol) [0x00007FF778B55612]\n",
      "\t(No symbol) [0x00007FF778A0A64B]\n",
      "\t(No symbol) [0x00007FF778A4B79C]\n",
      "\t(No symbol) [0x00007FF778A4B91C]\n",
      "\t(No symbol) [0x00007FF778A423AC]\n",
      "\t(No symbol) [0x00007FF778A6BEAF]\n",
      "\t(No symbol) [0x00007FF778A422E6]\n",
      "\t(No symbol) [0x00007FF778A6C080]\n",
      "\t(No symbol) [0x00007FF778A84D02]\n",
      "\t(No symbol) [0x00007FF778A6BC43]\n",
      "\t(No symbol) [0x00007FF778A40941]\n",
      "\t(No symbol) [0x00007FF778A41B84]\n",
      "\tGetHandleVerifier [0x00007FF778F37F52+3524194]\n",
      "\tGetHandleVerifier [0x00007FF778F8D800+3874576]\n",
      "\tGetHandleVerifier [0x00007FF778F85D7F+3843215]\n",
      "\tGetHandleVerifier [0x00007FF778C85086+694166]\n",
      "\t(No symbol) [0x00007FF778B60A88]\n",
      "\t(No symbol) [0x00007FF778B5CA94]\n",
      "\t(No symbol) [0x00007FF778B5CBC2]\n",
      "\t(No symbol) [0x00007FF778B4CC83]\n",
      "\tBaseThreadInitThunk [0x00007FFDD3D2257D+29]\n",
      "\tRtlUserThreadStart [0x00007FFDD4ACAA78+40]\n",
      "\n"
     ]
    },
    {
     "ename": "KeyboardInterrupt",
     "evalue": "",
     "output_type": "error",
     "traceback": [
      "\u001b[1;31m---------------------------------------------------------------------------\u001b[0m",
      "\u001b[1;31mKeyboardInterrupt\u001b[0m                         Traceback (most recent call last)",
      "\u001b[1;32md:\\AIFS\\faceDataScrapper.ipynb Cell 10\u001b[0m line \u001b[0;36m4\n\u001b[0;32m      <a href='vscode-notebook-cell:/d%3A/AIFS/faceDataScrapper.ipynb#X12sZmlsZQ%3D%3D?line=1'>2</a>\u001b[0m \u001b[39mfor\u001b[39;00m link_idx,link \u001b[39min\u001b[39;00m \u001b[39menumerate\u001b[39m(search_results_links):\n\u001b[0;32m      <a href='vscode-notebook-cell:/d%3A/AIFS/faceDataScrapper.ipynb#X12sZmlsZQ%3D%3D?line=2'>3</a>\u001b[0m     driver\u001b[39m.\u001b[39mget(link)\n\u001b[1;32m----> <a href='vscode-notebook-cell:/d%3A/AIFS/faceDataScrapper.ipynb#X12sZmlsZQ%3D%3D?line=3'>4</a>\u001b[0m     time\u001b[39m.\u001b[39msleep(\u001b[39m10\u001b[39m)\n\u001b[0;32m      <a href='vscode-notebook-cell:/d%3A/AIFS/faceDataScrapper.ipynb#X12sZmlsZQ%3D%3D?line=4'>5</a>\u001b[0m     \u001b[39mfor\u001b[39;00m posts_idx, i \u001b[39min\u001b[39;00m \u001b[39menumerate\u001b[39m(driver\u001b[39m.\u001b[39mfind_elements(By\u001b[39m.\u001b[39mXPATH, \u001b[39m\"\u001b[39m\u001b[39m//article/div/div/div/div/div\u001b[39m\u001b[39m\"\u001b[39m)):\n\u001b[0;32m      <a href='vscode-notebook-cell:/d%3A/AIFS/faceDataScrapper.ipynb#X12sZmlsZQ%3D%3D?line=5'>6</a>\u001b[0m         \u001b[39mtry\u001b[39;00m:\n",
      "\u001b[1;31mKeyboardInterrupt\u001b[0m: "
     ]
    }
   ],
   "source": [
    "# Iterate through search_results_links and process images\n",
    "for link_idx,link in enumerate(search_results_links):\n",
    "    driver.get(link)\n",
    "    time.sleep(10)\n",
    "    for posts_idx, i in enumerate(driver.find_elements(By.XPATH, \"//article/div/div/div/div/div\")):\n",
    "        try:\n",
    "            img_url = i.find_element(By.TAG_NAME, \"img\").get_attribute(\"src\")\n",
    "            # Extract faces from the current image\n",
    "            faces = extract_faces(img_url)\n",
    "            # Save the extracted faces\n",
    "            for face_idx, face in enumerate(faces):\n",
    "                face_image = Image.fromarray(face)\n",
    "                face_image.save(f'photos/face_{link_idx}_{posts_idx}_{face_idx}.jpg')  # Save the face with a unique filename\n",
    "        except Exception as e:\n",
    "            print(f\"Error processing image {posts_idx}: {e}\")\n",
    "            continue"
   ]
  },
  {
   "cell_type": "code",
   "execution_count": 32,
   "metadata": {},
   "outputs": [],
   "source": []
  },
  {
   "cell_type": "code",
   "execution_count": null,
   "metadata": {},
   "outputs": [],
   "source": []
  },
  {
   "cell_type": "code",
   "execution_count": 41,
   "metadata": {},
   "outputs": [],
   "source": [
    "import requests\n",
    "from PIL import Image\n",
    "from io import BytesIO\n",
    "import numpy as np\n",
    "import cv2\n",
    "# import dlib\n",
    "\n",
    "def extract_faces(img_url):\n",
    "    response = requests.get(img_url)\n",
    "    img = Image.open(BytesIO(response.content))\n",
    "    image = np.array(img)\n",
    "    h, w = image.shape[:2]\n",
    "\n",
    "    # Load face detection model\n",
    "    arch = 'architecture.txt'\n",
    "    weights = 'weights.caffemodel'\n",
    "    face_net = cv2.dnn.readNetFromCaffe(arch, weights)\n",
    "\n",
    "    # Load age detection model\n",
    "    age_weights = \"age_deploy.prototxt\"\n",
    "    age_config = \"age_net.caffemodel\"\n",
    "    age_net = cv2.dnn.readNet(age_config, age_weights) \n",
    "    age_list = ['(0-2)', '(4-6)', '(8-12)', '(15-20)', '(25-32)', '(38-43)', '(48-53)', '(60-100)']\n",
    "    model_mean = (78.4263377603, 87.7689143744, 114.895847746)\n",
    "\n",
    "    # Detect faces\n",
    "    blob = cv2.dnn.blobFromImage(image=cv2.resize(image, (299, 299)),\n",
    "                                 scalefactor=1.0,\n",
    "                                 size=(299, 299),\n",
    "                                 mean=(103.93, 116.77, 123.68))\n",
    "    face_net.setInput(blob)\n",
    "    detections = face_net.forward()\n",
    "    threshold = 0.5\n",
    "    results = []\n",
    "\n",
    "    for i in range(0, detections.shape[2]):\n",
    "        confidence = detections[0, 0, i, 2]\n",
    "        if confidence > threshold:\n",
    "            box = detections[0, 0, i, 3:7] * np.array([w, h, w, h])\n",
    "            startX, startY, endX, endY = box.astype('int')\n",
    "            face = image[startY:endY, startX:endX]\n",
    "\n",
    "            # Age detection for the detected face\n",
    "            blob = cv2.dnn.blobFromImage(face, 1.0, (227, 227), model_mean, swapRB=False)\n",
    "            age_net.setInput(blob)\n",
    "            age_preds = age_net.forward()\n",
    "            age_label = age_list[age_preds[0].argmax()]\n",
    "\n",
    "            results.append({\n",
    "                'face': face,\n",
    "                'age': age_label\n",
    "            })\n",
    "\n",
    "    return results\n"
   ]
  },
  {
   "cell_type": "code",
   "execution_count": 42,
   "metadata": {},
   "outputs": [
    {
     "ename": "KeyboardInterrupt",
     "evalue": "",
     "output_type": "error",
     "traceback": [
      "\u001b[1;31m---------------------------------------------------------------------------\u001b[0m",
      "\u001b[1;31mKeyboardInterrupt\u001b[0m                         Traceback (most recent call last)",
      "\u001b[1;32md:\\AIFS\\faceDataScrapper.ipynb Cell 14\u001b[0m line \u001b[0;36m4\n\u001b[0;32m      <a href='vscode-notebook-cell:/d%3A/AIFS/faceDataScrapper.ipynb#X16sZmlsZQ%3D%3D?line=1'>2</a>\u001b[0m \u001b[39mfor\u001b[39;00m link_idx, link \u001b[39min\u001b[39;00m \u001b[39menumerate\u001b[39m(search_results_links):\n\u001b[0;32m      <a href='vscode-notebook-cell:/d%3A/AIFS/faceDataScrapper.ipynb#X16sZmlsZQ%3D%3D?line=2'>3</a>\u001b[0m     driver\u001b[39m.\u001b[39mget(link)\n\u001b[1;32m----> <a href='vscode-notebook-cell:/d%3A/AIFS/faceDataScrapper.ipynb#X16sZmlsZQ%3D%3D?line=3'>4</a>\u001b[0m     time\u001b[39m.\u001b[39msleep(\u001b[39m10\u001b[39m)\n\u001b[0;32m      <a href='vscode-notebook-cell:/d%3A/AIFS/faceDataScrapper.ipynb#X16sZmlsZQ%3D%3D?line=4'>5</a>\u001b[0m     \u001b[39mfor\u001b[39;00m posts_idx, i \u001b[39min\u001b[39;00m \u001b[39menumerate\u001b[39m(driver\u001b[39m.\u001b[39mfind_elements(By\u001b[39m.\u001b[39mXPATH, \u001b[39m\"\u001b[39m\u001b[39m//article/div/div/div/div/div\u001b[39m\u001b[39m\"\u001b[39m)):\n\u001b[0;32m      <a href='vscode-notebook-cell:/d%3A/AIFS/faceDataScrapper.ipynb#X16sZmlsZQ%3D%3D?line=5'>6</a>\u001b[0m         \u001b[39mtry\u001b[39;00m:\n",
      "\u001b[1;31mKeyboardInterrupt\u001b[0m: "
     ]
    }
   ],
   "source": [
    "# Iterate through search_results_links and process images\n",
    "for link_idx, link in enumerate(search_results_links):\n",
    "    driver.get(link)\n",
    "    time.sleep(10)\n",
    "    for posts_idx, i in enumerate(driver.find_elements(By.XPATH, \"//article/div/div/div/div/div\")):\n",
    "        try:\n",
    "            img_url = i.find_element(By.TAG_NAME, \"img\").get_attribute(\"src\")\n",
    "            # Extract faces from the current image\n",
    "            faces_data = extract_faces(img_url)\n",
    "            # Save the extracted faces\n",
    "            for face_idx, face_data in enumerate(faces_data):\n",
    "                face_image = Image.fromarray(face_data['face'])\n",
    "                age_label = face_data['age']\n",
    "                # Save the face with a unique filename including age label\n",
    "                filename = f'face_{link_idx}_{posts_idx}_{face_idx}_age_{age_label}.jpg'\n",
    "                face_image.save(filename)\n",
    "        except Exception as e:\n",
    "            print(f\"Error processing image {posts_idx}: {e}\")\n",
    "            continue\n"
   ]
  },
  {
   "cell_type": "code",
   "execution_count": null,
   "metadata": {},
   "outputs": [],
   "source": []
  }
 ],
 "metadata": {
  "kernelspec": {
   "display_name": "Python 3",
   "language": "python",
   "name": "python3"
  },
  "language_info": {
   "codemirror_mode": {
    "name": "ipython",
    "version": 3
   },
   "file_extension": ".py",
   "mimetype": "text/x-python",
   "name": "python",
   "nbconvert_exporter": "python",
   "pygments_lexer": "ipython3",
   "version": "3.11.3"
  }
 },
 "nbformat": 4,
 "nbformat_minor": 2
}
